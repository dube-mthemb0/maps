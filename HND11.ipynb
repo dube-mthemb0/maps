{
  "nbformat": 4,
  "nbformat_minor": 0,
  "metadata": {
    "colab": {
      "provenance": [],
      "mount_file_id": "1Exq5l95hrX7-tdmWZqpQDwH3bfb4c-XL",
      "authorship_tag": "ABX9TyPdj0H9nIsB9DD0RLxyudVr",
      "include_colab_link": true
    },
    "kernelspec": {
      "name": "python3",
      "display_name": "Python 3"
    },
    "language_info": {
      "name": "python"
    }
  },
  "cells": [
    {
      "cell_type": "markdown",
      "metadata": {
        "id": "view-in-github",
        "colab_type": "text"
      },
      "source": [
        "<a href=\"https://colab.research.google.com/github/dube-mthemb0/maps/blob/main/HND11.ipynb\" target=\"_parent\"><img src=\"https://colab.research.google.com/assets/colab-badge.svg\" alt=\"Open In Colab\"/></a>"
      ]
    },
    {
      "cell_type": "code",
      "execution_count": null,
      "metadata": {
        "id": "eqAVjcIhnpUY"
      },
      "outputs": [],
      "source": [
        "import pandas as pd\n",
        "from geopy.distance import geodesic\n",
        "import matplotlib.pyplot as plt\n",
        "import seaborn as sns"
      ]
    },
    {
      "cell_type": "code",
      "source": [
        "# Load the datasets\n",
        "election_data = pd.read_csv('/content/ZAMFARA_crosschecked.csv')\n",
        "coordinates_data = pd.read_csv('/content/zamfara___coordinates.csv')"
      ],
      "metadata": {
        "id": "L-4FZ5eXoKHu"
      },
      "execution_count": null,
      "outputs": []
    },
    {
      "cell_type": "code",
      "source": [
        "election_data.info()\n",
        "coordinates_data.info()"
      ],
      "metadata": {
        "id": "jI8_O5o7pRyu"
      },
      "execution_count": null,
      "outputs": []
    },
    {
      "cell_type": "code",
      "source": [
        "# Merge datasets on common columns\n",
        "merged_data = pd.merge(election_data, coordinates_data, on='State')"
      ],
      "metadata": {
        "id": "8334iO9ApUlE"
      },
      "execution_count": null,
      "outputs": []
    },
    {
      "cell_type": "code",
      "source": [
        "merged_data.tail()"
      ],
      "metadata": {
        "id": "wRdEzJOZpfYO"
      },
      "execution_count": null,
      "outputs": []
    },
    {
      "cell_type": "code",
      "source": [
        "merged_data.describe()"
      ],
      "metadata": {
        "id": "j3zT6hWBpw9X"
      },
      "execution_count": null,
      "outputs": []
    },
    {
      "cell_type": "code",
      "source": [
        "\n",
        "# Check for missing values and handle them\n",
        "merged_data = merged_data.dropna(subset=['Latitude', 'Longitude'])\n",
        "\n",
        "# Define a radius (1 km)\n",
        "radius = 1  # in km\n"
      ],
      "metadata": {
        "id": "-xiiwy_1px8_"
      },
      "execution_count": null,
      "outputs": []
    },
    {
      "cell_type": "code",
      "source": [
        "# Function to find neighbours\n",
        "def find_neighbours(lat, lon, df, radius):\n",
        "    neighbours = []\n",
        "    for index, row in df.iterrows():\n",
        "        distance = geodesic((lat, lon), (row['Latitude'], row['Longitude'])).km\n",
        "        if distance <= radius:\n",
        "            neighbours.append(index)\n",
        "    return neighbours\n",
        "\n",
        "# Apply the function to each polling unit\n",
        "merged_data['neighbours'] = merged_data.apply(lambda row: find_neighbours(row['Latitude'], row['Longitude'], merged_data, radius), axis=1)\n"
      ],
      "metadata": {
        "id": "zOmVv6Xkp3kV"
      },
      "execution_count": null,
      "outputs": []
    },
    {
      "cell_type": "code",
      "source": [
        "# Function to calculate outlier scores\n",
        "def calculate_outlier_score(row, df):\n",
        "    neighbours = df.loc[row['neighbours']]\n",
        "    scores = {}\n",
        "    for party in ['APC', 'LP', 'PDP', 'NNPP']:  # Replace with actual party columns\n",
        "        score = abs(row[party] - neighbours[party].mean())\n",
        "        scores[party + '_outlier_score'] = score\n",
        "    return pd.Series(scores)\n"
      ],
      "metadata": {
        "id": "rLUaKDbyqDkL"
      },
      "execution_count": null,
      "outputs": []
    },
    {
      "cell_type": "code",
      "source": [
        "# Apply the function to each polling unit\n",
        "outlier_scores = merged_data.apply(lambda row: calculate_outlier_score(row, merged_data), axis=1)\n",
        "merged_data = pd.concat([merged_data, outlier_scores], axis=1)\n",
        "\n",
        "# Save the dataset with outlier scores\n",
        "merged_data.to_csv('/mnt/data/selected_state_with_outlier_scores.csv', index=False)"
      ],
      "metadata": {
        "id": "WCu2MgOPqJVr"
      },
      "execution_count": null,
      "outputs": []
    },
    {
      "cell_type": "code",
      "source": [
        "# Plot the outlier scores for one party as an example\n",
        "sns.scatterplot(data=merged_data, x='longitude', y='latitude', hue='APC_outlier_score', size='APC_outlier_score', sizes=(20, 200))\n",
        "plt.title('Outlier Scores for APC')\n",
        "plt.savefig('/mnt/data/APC_outlier_scores.png')\n",
        "\n"
      ],
      "metadata": {
        "id": "ap4ZtAbkrbzP"
      },
      "execution_count": null,
      "outputs": []
    },
    {
      "cell_type": "code",
      "source": [
        "# Create a sorted list of polling units by outlier scores for each party\n",
        "sorted_data = merged_data.sort_values(by=['APC_outlier_score', 'LP_outlier_score', 'PDP_outlier_score', 'NNPP_outlier_score'], ascending=False)\n",
        "sorted_data.to_excel('/mnt/data/sorted_outlier_scores.xlsx', index=False)\n",
        "\n"
      ],
      "metadata": {
        "id": "47_ukS8arjUK"
      },
      "execution_count": null,
      "outputs": []
    },
    {
      "cell_type": "code",
      "source": [
        "# Generate a detailed report\n",
        "report = \"\"\"\n",
        "# Outlier Detection Report\n",
        "\n",
        "## Methodology\n",
        "\n",
        "The analysis involved geospatial techniques to identify neighbouring polling units within a 1 km radius. For each polling unit, the votes received by each party were compared with those of its neighbours. An outlier score was calculated based on the deviation of votes from neighbouring units.\n",
        "\n",
        "## Summary of Findings\n",
        "\n",
        "The dataset was sorted by the outlier scores for each party to identify the most significant outliers. The top 3 outliers for each party are highlighted below with their closest polling units.\n",
        "\n",
        "## Top 3 Outliers for APC\n",
        "\n",
        "1. Polling Unit 1: [Details]\n",
        "2. Polling Unit 2: [Details]\n",
        "3. Polling Unit 3: [Details]\n",
        "\n",
        "## Top 3 Outliers for LP\n",
        "\n",
        "1. Polling Unit 1: [Details]\n",
        "2. Polling Unit 2: [Details]\n",
        "3. Polling Unit 3: [Details]\n",
        "\n",
        "## Top 3 Outliers for PDP\n",
        "\n",
        "1. Polling Unit 1: [Details]\n",
        "2. Polling Unit 2: [Details]\n",
        "3. Polling Unit 3: [Details]\n",
        "\n",
        "## Top 3 Outliers for NNPP\n",
        "\n",
        "1. Polling Unit 1: [Details]\n",
        "2. Polling Unit 2: [Details]\n",
        "3. Polling Unit 3: [Details]\n",
        "\n",
        "## Conclusion\n",
        "\n",
        "The analysis has identified significant outliers in the voting results, which may indicate potential irregularities or influences. Further investigation is recommended for these polling units to ensure the transparency and integrity of the election results.\n",
        "\"\"\"\n",
        "\n",
        "with open('/mnt/data/outlier_detection_report.txt', 'w') as file:\n",
        "    file.write(report)\n"
      ],
      "metadata": {
        "id": "tLH-PmVVrsMG"
      },
      "execution_count": null,
      "outputs": []
    },
    {
      "cell_type": "code",
      "source": [
        "import zipfile\n",
        "\n",
        "with zipfile.ZipFile('/mnt/data/outlier_detection_results.zip', 'w') as zipf:\n",
        "    zipf.write('/mnt/data/selected_state_with_outlier_scores.csv', arcname='selected_state_with_outlier_scores.csv')\n",
        "    zipf.write('/mnt/data/APC_outlier_scores.png', arcname='APC_outlier_scores.png')\n",
        "    zipf.write('/mnt/data/sorted_outlier_scores.xlsx', arcname='sorted_outlier_scores.xlsx')\n",
        "    zipf.write('/mnt/data/outlier_detection_report.txt', arcname='outlier_detection_report.txt')\n"
      ],
      "metadata": {
        "id": "APUu1SOYryBP"
      },
      "execution_count": null,
      "outputs": []
    }
  ]
}